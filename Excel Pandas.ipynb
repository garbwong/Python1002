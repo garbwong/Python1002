{
 "cells": [
  {
   "cell_type": "markdown",
   "metadata": {},
   "source": [
    "# Excel : Read, Modify and Save"
   ]
  },
  {
   "cell_type": "code",
   "execution_count": 1,
   "metadata": {
    "collapsed": true
   },
   "outputs": [],
   "source": [
    "import numpy as np\n",
    "import pandas as pd"
   ]
  },
  {
   "cell_type": "code",
   "execution_count": 2,
   "metadata": {
    "collapsed": true
   },
   "outputs": [],
   "source": [
    "data_file = pd.read_excel('APPL.xlsx')"
   ]
  },
  {
   "cell_type": "code",
   "execution_count": 3,
   "metadata": {},
   "outputs": [
    {
     "name": "stdout",
     "output_type": "stream",
     "text": [
      "        Date        Open        High         Low       Close    Volume  \\\n",
      "0 2016-01-04  102.610001  105.370003  102.000000  105.349998  67649400   \n",
      "1 2016-01-05  105.750000  105.849998  102.410004  102.709999  55791000   \n",
      "2 2016-01-06  100.559998  102.370003   99.870003  100.699997  68457400   \n",
      "3 2016-01-07   98.680000  100.129997   96.430000   96.449997  81094400   \n",
      "\n",
      "    Adj Close  \n",
      "0  102.612183  \n",
      "1  100.040792  \n",
      "2   98.083025  \n",
      "3   93.943473  \n"
     ]
    }
   ],
   "source": [
    "print(data_file[0:4])"
   ]
  },
  {
   "cell_type": "code",
   "execution_count": 4,
   "metadata": {
    "collapsed": true
   },
   "outputs": [],
   "source": [
    "time = data_file['Date']"
   ]
  },
  {
   "cell_type": "code",
   "execution_count": 5,
   "metadata": {
    "collapsed": true
   },
   "outputs": [],
   "source": [
    "prices = data_file.loc[:,'Open':'Adj Close'] # Read from ..."
   ]
  },
  {
   "cell_type": "code",
   "execution_count": 6,
   "metadata": {},
   "outputs": [
    {
     "name": "stdout",
     "output_type": "stream",
     "text": [
      "         Open        High         Low       Close    Volume   Adj Close\n",
      "0  102.610001  105.370003  102.000000  105.349998  67649400  102.612183\n",
      "1  105.750000  105.849998  102.410004  102.709999  55791000  100.040792\n",
      "2  100.559998  102.370003   99.870003  100.699997  68457400   98.083025\n",
      "3   98.680000  100.129997   96.430000   96.449997  81094400   93.943473\n",
      "4   98.550003   99.110001   96.760002   96.959999  70798000   94.440222\n",
      "5   98.970001   99.059998   97.339996   98.529999  49739400   95.969420\n",
      "6  100.550003  100.690002   98.839996   99.959999  49154200   97.362258\n",
      "7  100.320000  101.190002   97.300003   97.389999  62439600   94.859047\n",
      "8   97.959999  100.480003   95.739998   99.519997  63170100   96.933690\n",
      "9   96.199997   97.709999   95.360001   97.129997  79010000   94.605802\n"
     ]
    }
   ],
   "source": [
    "print(prices[0:10])"
   ]
  },
  {
   "cell_type": "code",
   "execution_count": 7,
   "metadata": {
    "collapsed": true
   },
   "outputs": [],
   "source": [
    "avg_row = np.mean(prices)\n"
   ]
  },
  {
   "cell_type": "code",
   "execution_count": 8,
   "metadata": {},
   "outputs": [
    {
     "data": {
      "text/plain": [
       "Adj Close    103.150329\n",
       "dtype: float64"
      ]
     },
     "execution_count": 8,
     "metadata": {},
     "output_type": "execute_result"
    }
   ],
   "source": [
    "avg_row[5:6]"
   ]
  },
  {
   "cell_type": "code",
   "execution_count": 9,
   "metadata": {
    "collapsed": true
   },
   "outputs": [],
   "source": [
    " prices['Adj Close']= prices['Adj Close'] - 103.150329"
   ]
  },
  {
   "cell_type": "code",
   "execution_count": 10,
   "metadata": {},
   "outputs": [
    {
     "name": "stdout",
     "output_type": "stream",
     "text": [
      "0   -0.538146\n",
      "1   -3.109537\n",
      "2   -5.067304\n",
      "3   -9.206856\n",
      "4   -8.710107\n",
      "5   -7.180909\n",
      "6   -5.788071\n",
      "7   -8.291282\n",
      "8   -6.216639\n",
      "9   -8.544527\n",
      "Name: Adj Close, dtype: float64\n"
     ]
    }
   ],
   "source": [
    "print(prices['Adj Close'][0:10])"
   ]
  },
  {
   "cell_type": "code",
   "execution_count": 11,
   "metadata": {},
   "outputs": [
    {
     "name": "stdout",
     "output_type": "stream",
     "text": [
      "        Date  Adj Close\n",
      "0 2016-01-04  -0.538146\n",
      "1 2016-01-05  -3.109537\n",
      "2 2016-01-06  -5.067304\n",
      "3 2016-01-07  -9.206856\n",
      "4 2016-01-08  -8.710107\n",
      "5 2016-01-11  -7.180909\n",
      "6 2016-01-12  -5.788071\n",
      "7 2016-01-13  -8.291282\n",
      "8 2016-01-14  -6.216639\n",
      "9 2016-01-15  -8.544527\n"
     ]
    }
   ],
   "source": [
    "my_data = [time, prices['Adj Close']]\n",
    "result = pd.concat(my_data,axis=1) #combin the two columns together\n",
    "print(result[0:10])\n"
   ]
  },
  {
   "cell_type": "code",
   "execution_count": 12,
   "metadata": {
    "collapsed": true
   },
   "outputs": [],
   "source": [
    "result.to_csv('result.csv')\n",
    "result.to_excel('result.xlsx')\n",
    "result.to_html('result.html')"
   ]
  },
  {
   "cell_type": "code",
   "execution_count": null,
   "metadata": {
    "collapsed": true
   },
   "outputs": [],
   "source": []
  }
 ],
 "metadata": {
  "kernelspec": {
   "display_name": "Python 3",
   "language": "python",
   "name": "python3"
  },
  "language_info": {
   "codemirror_mode": {
    "name": "ipython",
    "version": 3
   },
   "file_extension": ".py",
   "mimetype": "text/x-python",
   "name": "python",
   "nbconvert_exporter": "python",
   "pygments_lexer": "ipython3",
   "version": "3.6.0"
  }
 },
 "nbformat": 4,
 "nbformat_minor": 2
}
