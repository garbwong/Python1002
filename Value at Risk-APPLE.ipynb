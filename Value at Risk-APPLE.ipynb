{
 "cells": [
  {
   "cell_type": "markdown",
   "metadata": {},
   "source": [
    "# VaR at Risk"
   ]
  },
  {
   "cell_type": "code",
   "execution_count": 1,
   "metadata": {
    "collapsed": true
   },
   "outputs": [],
   "source": [
    "import numpy as np\n",
    "from numpy import std, mean\n",
    "from math import sqrt\n",
    "import pandas as pd\n",
    "from scipy.stats import norm\n"
   ]
  },
  {
   "cell_type": "code",
   "execution_count": 2,
   "metadata": {
    "collapsed": true
   },
   "outputs": [],
   "source": [
    "x = pd.read_csv('APPL2Y.csv')    \n",
    "\n"
   ]
  },
  {
   "cell_type": "code",
   "execution_count": 3,
   "metadata": {},
   "outputs": [
    {
     "data": {
      "text/plain": [
       "pandas.core.frame.DataFrame"
      ]
     },
     "execution_count": 3,
     "metadata": {},
     "output_type": "execute_result"
    }
   ],
   "source": [
    "type(x)"
   ]
  },
  {
   "cell_type": "code",
   "execution_count": 4,
   "metadata": {
    "collapsed": true
   },
   "outputs": [],
   "source": [
    "n_shares=50 #stock holding\n",
    "confidence_level=0.99 # confidence level\n",
    "n_days=10 # no of days\n",
    "z=norm.ppf(confidence_level)\n"
   ]
  },
  {
   "cell_type": "code",
   "execution_count": 5,
   "metadata": {},
   "outputs": [
    {
     "data": {
      "text/plain": [
       "0      100.274513\n",
       "1       97.761681\n",
       "2       95.848511\n",
       "3       91.803276\n",
       "4       92.288696\n",
       "5       93.783073\n",
       "6       95.144165\n",
       "7       92.697990\n",
       "8       94.725372\n",
       "9       92.450516\n",
       "10      92.003166\n",
       "11      92.126900\n",
       "12      91.660500\n",
       "13      96.533836\n",
       "14      94.649239\n",
       "15      95.172729\n",
       "16      88.919250\n",
       "17      89.556976\n",
       "18      92.650391\n",
       "19      91.784241\n",
       "20      89.928192\n",
       "21      91.708099\n",
       "22      92.444969\n",
       "23      89.975929\n",
       "24      90.923355\n",
       "25      90.904213\n",
       "26      90.215187\n",
       "27      89.669716\n",
       "28      89.947243\n",
       "29      92.483246\n",
       "          ...    \n",
       "472    167.160339\n",
       "473    169.157410\n",
       "474    168.218185\n",
       "475    168.050110\n",
       "476    171.174255\n",
       "477    172.973587\n",
       "478    172.983475\n",
       "479    172.113464\n",
       "480    171.105042\n",
       "481    167.555801\n",
       "482    169.898895\n",
       "483    169.107971\n",
       "484    167.872177\n",
       "485    167.713974\n",
       "486    167.091141\n",
       "487    167.397629\n",
       "488    167.447037\n",
       "489    170.709595\n",
       "490    169.750595\n",
       "491    170.314117\n",
       "492    170.264694\n",
       "493    171.994812\n",
       "494    174.417007\n",
       "495    172.558350\n",
       "496    172.370514\n",
       "497    173.023026\n",
       "498    173.023026\n",
       "499    168.633423\n",
       "500    168.663101\n",
       "501    169.137650\n",
       "Name: Close, Length: 502, dtype: float64"
      ]
     },
     "execution_count": 5,
     "metadata": {},
     "output_type": "execute_result"
    }
   ],
   "source": [
    "x['Close'][:]"
   ]
  },
  {
   "cell_type": "code",
   "execution_count": 6,
   "metadata": {},
   "outputs": [
    {
     "data": {
      "text/plain": [
       "0           NaN\n",
       "1     -0.025060\n",
       "2     -0.019570\n",
       "3     -0.042204\n",
       "4      0.005288\n",
       "5      0.016192\n",
       "6      0.014513\n",
       "7     -0.025710\n",
       "8      0.021871\n",
       "9     -0.024015\n",
       "10    -0.004839\n",
       "11     0.001345\n",
       "12    -0.005063\n",
       "13     0.053167\n",
       "14    -0.019523\n",
       "15     0.005531\n",
       "16    -0.065707\n",
       "17     0.007172\n",
       "18     0.034541\n",
       "19    -0.009349\n",
       "20    -0.020222\n",
       "21     0.019793\n",
       "22     0.008035\n",
       "23    -0.026708\n",
       "24     0.010530\n",
       "25    -0.000211\n",
       "26    -0.007580\n",
       "27    -0.006046\n",
       "28     0.003095\n",
       "29     0.028194\n",
       "         ...   \n",
       "472   -0.013190\n",
       "473    0.011947\n",
       "474   -0.005552\n",
       "475   -0.000999\n",
       "476    0.018591\n",
       "477    0.010512\n",
       "478    0.000057\n",
       "479   -0.005029\n",
       "480   -0.005859\n",
       "481   -0.020743\n",
       "482    0.013984\n",
       "483   -0.004655\n",
       "484   -0.007308\n",
       "485   -0.000942\n",
       "486   -0.003714\n",
       "487    0.001834\n",
       "488    0.000295\n",
       "489    0.019484\n",
       "490   -0.005618\n",
       "491    0.003320\n",
       "492   -0.000290\n",
       "493    0.010161\n",
       "494    0.014083\n",
       "495   -0.010656\n",
       "496   -0.001089\n",
       "497    0.003786\n",
       "498    0.000000\n",
       "499   -0.025370\n",
       "500    0.000176\n",
       "501    0.002814\n",
       "Name: Close, Length: 502, dtype: float64"
      ]
     },
     "execution_count": 6,
     "metadata": {},
     "output_type": "execute_result"
    }
   ],
   "source": [
    "ret = ((x['Close'] / x['Close'].shift()) -1)\n",
    "ret"
   ]
  },
  {
   "cell_type": "code",
   "execution_count": 7,
   "metadata": {},
   "outputs": [
    {
     "name": "stdout",
     "output_type": "stream",
     "text": [
      "Holding= 501    8456.8825\n",
      "Name: Close, dtype: float64 99% VaR= 501    810.3603\n",
      "Name: Close, dtype: float64 in  10 Days\n"
     ]
    }
   ],
   "source": [
    "position = n_shares*(x['Close'][-1:])\n",
    "VaR=position*z*std(ret)*sqrt(n_days)\n",
    "print(\"Holding=\",position, \"99% VaR=\", round(VaR,4), \"in \", n_days, \"Days\")"
   ]
  },
  {
   "cell_type": "code",
   "execution_count": 8,
   "metadata": {},
   "outputs": [
    {
     "data": {
      "text/plain": [
       "0.095822579184297763"
      ]
     },
     "execution_count": 8,
     "metadata": {},
     "output_type": "execute_result"
    }
   ],
   "source": [
    "z*std(ret)*sqrt(n_days)"
   ]
  },
  {
   "cell_type": "code",
   "execution_count": 9,
   "metadata": {},
   "outputs": [
    {
     "data": {
      "text/plain": [
       "2.3263478740408408"
      ]
     },
     "execution_count": 9,
     "metadata": {},
     "output_type": "execute_result"
    }
   ],
   "source": [
    "z"
   ]
  },
  {
   "cell_type": "code",
   "execution_count": 10,
   "metadata": {},
   "outputs": [
    {
     "data": {
      "text/plain": [
       "3.1622776601683795"
      ]
     },
     "execution_count": 10,
     "metadata": {},
     "output_type": "execute_result"
    }
   ],
   "source": [
    "sqrt(n_days)"
   ]
  },
  {
   "cell_type": "code",
   "execution_count": 11,
   "metadata": {},
   "outputs": [
    {
     "data": {
      "text/plain": [
       "501    169.13765\n",
       "Name: Close, dtype: float64"
      ]
     },
     "execution_count": 11,
     "metadata": {},
     "output_type": "execute_result"
    }
   ],
   "source": [
    "x['Close'][-1:] # This is the last stock price in the time period"
   ]
  },
  {
   "cell_type": "code",
   "execution_count": 12,
   "metadata": {},
   "outputs": [
    {
     "data": {
      "text/plain": [
       "(1.302546385583692, 0.11288445532517351)"
      ]
     },
     "execution_count": 12,
     "metadata": {},
     "output_type": "execute_result"
    }
   ],
   "source": [
    "std(ret*100), mean(ret*100)"
   ]
  },
  {
   "cell_type": "code",
   "execution_count": null,
   "metadata": {
    "collapsed": true
   },
   "outputs": [],
   "source": []
  }
 ],
 "metadata": {
  "kernelspec": {
   "display_name": "Python 3",
   "language": "python",
   "name": "python3"
  },
  "language_info": {
   "codemirror_mode": {
    "name": "ipython",
    "version": 3
   },
   "file_extension": ".py",
   "mimetype": "text/x-python",
   "name": "python",
   "nbconvert_exporter": "python",
   "pygments_lexer": "ipython3",
   "version": "3.6.1"
  }
 },
 "nbformat": 4,
 "nbformat_minor": 2
}
