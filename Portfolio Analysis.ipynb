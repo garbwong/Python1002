{
 "cells": [
  {
   "cell_type": "code",
   "execution_count": 1,
   "metadata": {
    "collapsed": true
   },
   "outputs": [],
   "source": [
    "import numpy as np\n",
    "import pandas as pd"
   ]
  },
  {
   "cell_type": "code",
   "execution_count": 2,
   "metadata": {
    "collapsed": true
   },
   "outputs": [],
   "source": [
    "#list of stocks in portfolio\n",
    "#NOTE THAT THESE MUST BE ENTERED IN ALPHABETICAL ORDER FOR THE RESULTS TO BE CORRECT!!!\n",
    "stocks = ['AAPL','AMZN','GOOG','MSFT']"
   ]
  },
  {
   "cell_type": "code",
   "execution_count": 3,
   "metadata": {
    "collapsed": true
   },
   "outputs": [],
   "source": [
    "#download daily price data for each of the stocks in the portfolio\n",
    "data = pd.DataFrame.from_csv('AAGM.csv')\n"
   ]
  },
  {
   "cell_type": "code",
   "execution_count": 4,
   "metadata": {
    "collapsed": true
   },
   "outputs": [],
   "source": [
    "data.sort_index(inplace=True)\n",
    "\n",
    "#convert daily stock prices into daily returns\n",
    "returns = data.pct_change()\n",
    "\n",
    "#calculate mean daily return and covariance of daily returns\n",
    "mean_daily_returns = returns.mean()\n",
    "cov_matrix = returns.cov()\n",
    "\n",
    "#set array holding portfolio weights of each stock\n",
    "weights = np.asarray([0.5,0.2,0.2,0.1])\n",
    "\n",
    "#calculate annualised portfolio return\n",
    "portfolio_return = round(np.sum(mean_daily_returns * weights) * 252,2)\n",
    "#calculate annualised portfolio volatility\n",
    "portfolio_std_dev = round(np.sqrt(np.dot(weights.T,np.dot(cov_matrix, weights))) * np.sqrt(252),2)"
   ]
  },
  {
   "cell_type": "code",
   "execution_count": 5,
   "metadata": {},
   "outputs": [
    {
     "name": "stdout",
     "output_type": "stream",
     "text": [
      "The expected annualised mean return of portfolio is 0.27\n",
      "The expected annualised_stdev of portfolio is 0.18\n"
     ]
    }
   ],
   "source": [
    "print ('The expected annualised mean return of portfolio is ' \"%.2f\" % portfolio_return)\n",
    "print ('The expected annualised_stdev of portfolio is ' \"%.2f\" % portfolio_std_dev)"
   ]
  },
  {
   "cell_type": "code",
   "execution_count": null,
   "metadata": {
    "collapsed": true
   },
   "outputs": [],
   "source": []
  }
 ],
 "metadata": {
  "kernelspec": {
   "display_name": "Python 3",
   "language": "python",
   "name": "python3"
  },
  "language_info": {
   "codemirror_mode": {
    "name": "ipython",
    "version": 3
   },
   "file_extension": ".py",
   "mimetype": "text/x-python",
   "name": "python",
   "nbconvert_exporter": "python",
   "pygments_lexer": "ipython3",
   "version": "3.6.2"
  }
 },
 "nbformat": 4,
 "nbformat_minor": 2
}
