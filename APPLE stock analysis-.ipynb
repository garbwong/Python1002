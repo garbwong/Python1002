{
 "cells": [
  {
   "cell_type": "code",
   "execution_count": 1,
   "metadata": {
    "collapsed": true
   },
   "outputs": [],
   "source": [
    "import numpy as np\n",
    "import pandas as pd\n",
    "\n",
    "stock = ['AAPL']"
   ]
  },
  {
   "cell_type": "code",
   "execution_count": 2,
   "metadata": {
    "collapsed": true
   },
   "outputs": [],
   "source": [
    "data = pd.read_csv('APPL.csv')"
   ]
  },
  {
   "cell_type": "code",
   "execution_count": 3,
   "metadata": {},
   "outputs": [
    {
     "data": {
      "text/plain": [
       "0        55.410530\n",
       "1        53.867073\n",
       "2        53.550209\n",
       "3        53.694336\n",
       "4        52.855141\n",
       "5        53.510345\n",
       "6        53.182232\n",
       "7        51.286152\n",
       "8        49.668106\n",
       "9        51.729763\n",
       "10       51.381218\n",
       "11       51.107292\n",
       "12       51.594852\n",
       "13       52.539307\n",
       "14       46.047665\n",
       "15       44.962143\n",
       "16       45.979191\n",
       "17       46.841866\n",
       "18       46.694683\n",
       "19       46.557709\n",
       "20       46.366570\n",
       "21       45.211544\n",
       "22       46.797920\n",
       "23       46.747833\n",
       "24       49.882107\n",
       "25       50.602283\n",
       "26       51.129639\n",
       "27       49.848011\n",
       "28       49.753197\n",
       "29       49.708454\n",
       "           ...    \n",
       "1227    167.160339\n",
       "1228    169.157410\n",
       "1229    168.218185\n",
       "1230    168.050110\n",
       "1231    171.174255\n",
       "1232    172.973587\n",
       "1233    172.983475\n",
       "1234    172.113464\n",
       "1235    171.105042\n",
       "1236    167.555801\n",
       "1237    169.898895\n",
       "1238    169.107971\n",
       "1239    167.872177\n",
       "1240    167.713974\n",
       "1241    167.091141\n",
       "1242    167.397629\n",
       "1243    167.447037\n",
       "1244    170.709595\n",
       "1245    169.750595\n",
       "1246    170.314117\n",
       "1247    170.264694\n",
       "1248    171.994812\n",
       "1249    174.417007\n",
       "1250    172.558350\n",
       "1251    172.370514\n",
       "1252    173.023026\n",
       "1253    173.023026\n",
       "1254    168.633423\n",
       "1255    168.663101\n",
       "1256    169.137650\n",
       "Name: Close, Length: 1257, dtype: float64"
      ]
     },
     "execution_count": 3,
     "metadata": {},
     "output_type": "execute_result"
    }
   ],
   "source": [
    "data['Close']"
   ]
  },
  {
   "cell_type": "code",
   "execution_count": 4,
   "metadata": {},
   "outputs": [
    {
     "data": {
      "text/plain": [
       "0            NaN\n",
       "1      -0.027855\n",
       "2      -0.005882\n",
       "3       0.002691\n",
       "4      -0.015629\n",
       "5       0.012396\n",
       "6      -0.006132\n",
       "7      -0.035653\n",
       "8      -0.031549\n",
       "9       0.041509\n",
       "10     -0.006738\n",
       "11     -0.005331\n",
       "12      0.009540\n",
       "13      0.018305\n",
       "14     -0.123558\n",
       "15     -0.023574\n",
       "16      0.022620\n",
       "17      0.018762\n",
       "18     -0.003142\n",
       "19     -0.002933\n",
       "20     -0.004105\n",
       "21     -0.024911\n",
       "22      0.035088\n",
       "23     -0.001070\n",
       "24      0.067046\n",
       "25      0.014438\n",
       "26      0.010422\n",
       "27     -0.025066\n",
       "28     -0.001902\n",
       "29     -0.000899\n",
       "          ...   \n",
       "1227   -0.013190\n",
       "1228    0.011947\n",
       "1229   -0.005552\n",
       "1230   -0.000999\n",
       "1231    0.018591\n",
       "1232    0.010512\n",
       "1233    0.000057\n",
       "1234   -0.005029\n",
       "1235   -0.005859\n",
       "1236   -0.020743\n",
       "1237    0.013984\n",
       "1238   -0.004655\n",
       "1239   -0.007308\n",
       "1240   -0.000942\n",
       "1241   -0.003714\n",
       "1242    0.001834\n",
       "1243    0.000295\n",
       "1244    0.019484\n",
       "1245   -0.005618\n",
       "1246    0.003320\n",
       "1247   -0.000290\n",
       "1248    0.010161\n",
       "1249    0.014083\n",
       "1250   -0.010656\n",
       "1251   -0.001089\n",
       "1252    0.003786\n",
       "1253    0.000000\n",
       "1254   -0.025370\n",
       "1255    0.000176\n",
       "1256    0.002814\n",
       "Name: Close, Length: 1257, dtype: float64"
      ]
     },
     "execution_count": 4,
     "metadata": {},
     "output_type": "execute_result"
    }
   ],
   "source": [
    "returns = ((data['Close'] / data['Close'].shift()) -1)\n",
    "returns\n"
   ]
  },
  {
   "cell_type": "code",
   "execution_count": 5,
   "metadata": {},
   "outputs": [
    {
     "data": {
      "text/html": [
       "<div>\n",
       "<style>\n",
       "    .dataframe thead tr:only-child th {\n",
       "        text-align: right;\n",
       "    }\n",
       "\n",
       "    .dataframe thead th {\n",
       "        text-align: left;\n",
       "    }\n",
       "\n",
       "    .dataframe tbody tr th {\n",
       "        vertical-align: top;\n",
       "    }\n",
       "</style>\n",
       "<table border=\"1\" class=\"dataframe\">\n",
       "  <thead>\n",
       "    <tr style=\"text-align: right;\">\n",
       "      <th></th>\n",
       "      <th>Date</th>\n",
       "      <th>Close</th>\n",
       "    </tr>\n",
       "  </thead>\n",
       "  <tbody>\n",
       "    <tr>\n",
       "      <th>0</th>\n",
       "      <td>3/1/2013</td>\n",
       "      <td>55.410530</td>\n",
       "    </tr>\n",
       "    <tr>\n",
       "      <th>1</th>\n",
       "      <td>4/1/2013</td>\n",
       "      <td>53.867073</td>\n",
       "    </tr>\n",
       "    <tr>\n",
       "      <th>2</th>\n",
       "      <td>7/1/2013</td>\n",
       "      <td>53.550209</td>\n",
       "    </tr>\n",
       "    <tr>\n",
       "      <th>3</th>\n",
       "      <td>8/1/2013</td>\n",
       "      <td>53.694336</td>\n",
       "    </tr>\n",
       "    <tr>\n",
       "      <th>4</th>\n",
       "      <td>9/1/2013</td>\n",
       "      <td>52.855141</td>\n",
       "    </tr>\n",
       "    <tr>\n",
       "      <th>5</th>\n",
       "      <td>10/1/2013</td>\n",
       "      <td>53.510345</td>\n",
       "    </tr>\n",
       "    <tr>\n",
       "      <th>6</th>\n",
       "      <td>11/1/2013</td>\n",
       "      <td>53.182232</td>\n",
       "    </tr>\n",
       "    <tr>\n",
       "      <th>7</th>\n",
       "      <td>14/1/2013</td>\n",
       "      <td>51.286152</td>\n",
       "    </tr>\n",
       "    <tr>\n",
       "      <th>8</th>\n",
       "      <td>15/1/2013</td>\n",
       "      <td>49.668106</td>\n",
       "    </tr>\n",
       "    <tr>\n",
       "      <th>9</th>\n",
       "      <td>16/1/2013</td>\n",
       "      <td>51.729763</td>\n",
       "    </tr>\n",
       "  </tbody>\n",
       "</table>\n",
       "</div>"
      ],
      "text/plain": [
       "        Date      Close\n",
       "0   3/1/2013  55.410530\n",
       "1   4/1/2013  53.867073\n",
       "2   7/1/2013  53.550209\n",
       "3   8/1/2013  53.694336\n",
       "4   9/1/2013  52.855141\n",
       "5  10/1/2013  53.510345\n",
       "6  11/1/2013  53.182232\n",
       "7  14/1/2013  51.286152\n",
       "8  15/1/2013  49.668106\n",
       "9  16/1/2013  51.729763"
      ]
     },
     "execution_count": 5,
     "metadata": {},
     "output_type": "execute_result"
    }
   ],
   "source": [
    "data.head(10)"
   ]
  },
  {
   "cell_type": "code",
   "execution_count": 6,
   "metadata": {},
   "outputs": [
    {
     "data": {
      "text/plain": [
       "0            NaN\n",
       "1      -0.027855\n",
       "2      -0.005882\n",
       "3       0.002691\n",
       "4      -0.015629\n",
       "5       0.012396\n",
       "6      -0.006132\n",
       "7      -0.035653\n",
       "8      -0.031549\n",
       "9       0.041509\n",
       "10     -0.006738\n",
       "11     -0.005331\n",
       "12      0.009540\n",
       "13      0.018305\n",
       "14     -0.123558\n",
       "15     -0.023574\n",
       "16      0.022620\n",
       "17      0.018762\n",
       "18     -0.003142\n",
       "19     -0.002933\n",
       "20     -0.004105\n",
       "21     -0.024911\n",
       "22      0.035088\n",
       "23     -0.001070\n",
       "24      0.067046\n",
       "25      0.014438\n",
       "26      0.010422\n",
       "27     -0.025066\n",
       "28     -0.001902\n",
       "29     -0.000899\n",
       "          ...   \n",
       "1227   -0.013190\n",
       "1228    0.011947\n",
       "1229   -0.005552\n",
       "1230   -0.000999\n",
       "1231    0.018591\n",
       "1232    0.010512\n",
       "1233    0.000057\n",
       "1234   -0.005029\n",
       "1235   -0.005859\n",
       "1236   -0.020743\n",
       "1237    0.013984\n",
       "1238   -0.004655\n",
       "1239   -0.007308\n",
       "1240   -0.000942\n",
       "1241   -0.003714\n",
       "1242    0.001834\n",
       "1243    0.000295\n",
       "1244    0.019484\n",
       "1245   -0.005618\n",
       "1246    0.003320\n",
       "1247   -0.000290\n",
       "1248    0.010161\n",
       "1249    0.014083\n",
       "1250   -0.010656\n",
       "1251   -0.001089\n",
       "1252    0.003786\n",
       "1253    0.000000\n",
       "1254   -0.025370\n",
       "1255    0.000176\n",
       "1256    0.002814\n",
       "Name: Close, Length: 1257, dtype: float64"
      ]
     },
     "execution_count": 6,
     "metadata": {},
     "output_type": "execute_result"
    }
   ],
   "source": [
    "returns"
   ]
  },
  {
   "cell_type": "code",
   "execution_count": 7,
   "metadata": {
    "collapsed": true
   },
   "outputs": [],
   "source": [
    "mean_return = returns.mean()\n",
    "return_stdev = returns.std()"
   ]
  },
  {
   "cell_type": "code",
   "execution_count": 8,
   "metadata": {},
   "outputs": [
    {
     "data": {
      "text/plain": [
       "0.0010059869764907422"
      ]
     },
     "execution_count": 8,
     "metadata": {},
     "output_type": "execute_result"
    }
   ],
   "source": [
    "mean_return"
   ]
  },
  {
   "cell_type": "code",
   "execution_count": 9,
   "metadata": {
    "collapsed": true
   },
   "outputs": [],
   "source": [
    "annualised_return = round(mean_return * 252,2)\n",
    "annualised_stdev = round(return_stdev * np.sqrt(252),2)"
   ]
  },
  {
   "cell_type": "code",
   "execution_count": 10,
   "metadata": {},
   "outputs": [
    {
     "name": "stdout",
     "output_type": "stream",
     "text": [
      "The annualised mean return of stock is 0.25\n",
      "The annualised_stdev of stock is 0.24\n"
     ]
    }
   ],
   "source": [
    "print ('The annualised mean return of stock is ' \"%.2f\" % annualised_return)\n",
    "print ('The annualised_stdev of stock is ' \"%.2f\" % annualised_stdev)"
   ]
  },
  {
   "cell_type": "code",
   "execution_count": null,
   "metadata": {
    "collapsed": true
   },
   "outputs": [],
   "source": []
  }
 ],
 "metadata": {
  "kernelspec": {
   "display_name": "Python 3",
   "language": "python",
   "name": "python3"
  },
  "language_info": {
   "codemirror_mode": {
    "name": "ipython",
    "version": 3
   },
   "file_extension": ".py",
   "mimetype": "text/x-python",
   "name": "python",
   "nbconvert_exporter": "python",
   "pygments_lexer": "ipython3",
   "version": "3.6.2"
  }
 },
 "nbformat": 4,
 "nbformat_minor": 2
}
