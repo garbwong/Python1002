{
 "cells": [
  {
   "cell_type": "markdown",
   "metadata": {},
   "source": [
    "# Exotic Option Pricing : Average stock price with fixed strike by simulation"
   ]
  },
  {
   "cell_type": "code",
   "execution_count": 1,
   "metadata": {
    "collapsed": true
   },
   "outputs": [],
   "source": [
    "import scipy as sp\n",
    "from scipy import mean, exp\n",
    "\n",
    "#stock price\n",
    "s0=105.\n",
    "\n",
    "#exercise price\n",
    "x=100.\n",
    "\n",
    "#maturity in years\n",
    "T=1\n",
    "\n",
    "#interest rate\n",
    "r=0.05\n",
    "\n",
    "#volatility (not stochastic)\n",
    "sigma=0.25"
   ]
  },
  {
   "cell_type": "code",
   "execution_count": 2,
   "metadata": {
    "collapsed": true
   },
   "outputs": [],
   "source": [
    "#number of simualtion\n",
    "n_simulation=10000\n",
    "\n",
    "#number of steps\n",
    "n_steps=100\n",
    "dt=T/n_steps"
   ]
  },
  {
   "cell_type": "code",
   "execution_count": 3,
   "metadata": {},
   "outputs": [
    {
     "name": "stdout",
     "output_type": "stream",
     "text": [
      "call price =  9.98\n"
     ]
    }
   ],
   "source": [
    "#Return a new array of given shape and type, filled with zeros.\n",
    "call=sp.zeros([n_simulation], dtype=float)\n",
    "\n",
    "for j in range(0, n_simulation):\n",
    "    sT=s0\n",
    "    total=0.0\n",
    "    \n",
    "    for i in range(0,int(n_steps)):\n",
    "        e=sp.random.normal()\n",
    "        sT*=sp.exp((r-0.5*sigma*sigma)*dt+sigma*e*sp.sqrt(dt))\n",
    "        total+=sT\n",
    "    price_average=total/n_steps\n",
    "    call[j]=max(price_average-x,0)\n",
    "    \n",
    "call_price=mean(call)*exp(-r*T)\n",
    "print ('call price = ', round(call_price,3))"
   ]
  },
  {
   "cell_type": "code",
   "execution_count": null,
   "metadata": {
    "collapsed": true
   },
   "outputs": [],
   "source": []
  }
 ],
 "metadata": {
  "kernelspec": {
   "display_name": "Python 3",
   "language": "python",
   "name": "python3"
  },
  "language_info": {
   "codemirror_mode": {
    "name": "ipython",
    "version": 3
   },
   "file_extension": ".py",
   "mimetype": "text/x-python",
   "name": "python",
   "nbconvert_exporter": "python",
   "pygments_lexer": "ipython3",
   "version": "3.6.1"
  }
 },
 "nbformat": 4,
 "nbformat_minor": 2
}
