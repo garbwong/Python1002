{
 "cells": [
  {
   "cell_type": "markdown",
   "metadata": {},
   "source": [
    "# Daily returns of Stock vs HSI"
   ]
  },
  {
   "cell_type": "code",
   "execution_count": 1,
   "metadata": {
    "collapsed": true
   },
   "outputs": [],
   "source": [
    "import pandas as pd\n",
    "import numpy as np\n"
   ]
  },
  {
   "cell_type": "code",
   "execution_count": 2,
   "metadata": {
    "collapsed": true
   },
   "outputs": [],
   "source": [
    "# open csv file\n",
    "HSBC = pd.read_csv('0005HK.csv', header= None) \n",
    "\n",
    "# write csv data into dataframes\n",
    "HSBC.columns = ['date','price']\n",
    "\n",
    "# put data into array\n",
    "date = HSBC['date']\n",
    "price = HSBC['price']\n"
   ]
  },
  {
   "cell_type": "code",
   "execution_count": 3,
   "metadata": {},
   "outputs": [
    {
     "data": {
      "text/plain": [
       "0       64.86\n",
       "1       64.94\n",
       "2       63.93\n",
       "3       64.75\n",
       "4       64.51\n",
       "5       64.44\n",
       "6       64.82\n",
       "7       65.37\n",
       "8       65.99\n",
       "9       65.37\n",
       "10      65.60\n",
       "11      66.23\n",
       "12      66.50\n",
       "13      66.50\n",
       "14      66.42\n",
       "15      66.23\n",
       "16      66.46\n",
       "17      67.44\n",
       "18      68.06\n",
       "19      68.02\n",
       "20      68.64\n",
       "21      68.84\n",
       "22      68.61\n",
       "23      68.49\n",
       "24      66.62\n",
       "25      67.36\n",
       "26      67.16\n",
       "27      67.32\n",
       "28      68.33\n",
       "29      68.26\n",
       "        ...  \n",
       "1026    63.20\n",
       "1027    63.15\n",
       "1028    62.85\n",
       "1029    63.00\n",
       "1030    64.35\n",
       "1031    63.50\n",
       "1032    63.70\n",
       "1033    64.35\n",
       "1034    64.15\n",
       "1035    63.50\n",
       "1036    63.70\n",
       "1037    63.10\n",
       "1038    63.00\n",
       "1039    63.00\n",
       "1040    62.75\n",
       "1041    63.30\n",
       "1042    63.55\n",
       "1043    63.50\n",
       "1044    63.30\n",
       "1045    63.45\n",
       "1046    63.30\n",
       "1047    63.20\n",
       "1048    63.30\n",
       "1049    63.40\n",
       "1050    63.70\n",
       "1051    64.20\n",
       "1052    63.35\n",
       "1053    62.40\n",
       "1054    62.10\n",
       "1055    62.25\n",
       "Name: price, Length: 1056, dtype: float64"
      ]
     },
     "execution_count": 3,
     "metadata": {},
     "output_type": "execute_result"
    }
   ],
   "source": [
    "price"
   ]
  },
  {
   "cell_type": "code",
   "execution_count": 4,
   "metadata": {},
   "outputs": [
    {
     "data": {
      "text/plain": [
       "1056"
      ]
     },
     "execution_count": 4,
     "metadata": {},
     "output_type": "execute_result"
    }
   ],
   "source": [
    "len(price)"
   ]
  },
  {
   "cell_type": "code",
   "execution_count": 5,
   "metadata": {},
   "outputs": [
    {
     "data": {
      "text/plain": [
       "array([ 64.94,  63.93,  64.75, ...,  62.4 ,  62.1 ,  62.25])"
      ]
     },
     "execution_count": 5,
     "metadata": {},
     "output_type": "execute_result"
    }
   ],
   "source": [
    "price[1:].values"
   ]
  },
  {
   "cell_type": "code",
   "execution_count": 6,
   "metadata": {},
   "outputs": [
    {
     "data": {
      "text/plain": [
       "array([ 64.94,  63.93,  64.75, ...,  62.4 ,  62.1 ,  62.25])"
      ]
     },
     "execution_count": 6,
     "metadata": {},
     "output_type": "execute_result"
    }
   ],
   "source": [
    "# calculate daily return\n",
    "price[1:].values\n",
    "\n"
   ]
  },
  {
   "cell_type": "code",
   "execution_count": 7,
   "metadata": {},
   "outputs": [
    {
     "data": {
      "text/plain": [
       "array([ 64.86,  64.94,  63.93, ...,  63.35,  62.4 ,  62.1 ])"
      ]
     },
     "execution_count": 7,
     "metadata": {},
     "output_type": "execute_result"
    }
   ],
   "source": [
    "price[:-1].values\n",
    "\n"
   ]
  },
  {
   "cell_type": "code",
   "execution_count": 8,
   "metadata": {
    "collapsed": true
   },
   "outputs": [],
   "source": [
    "dreturn = (price[1:]/price[:-1].values - 1)*100"
   ]
  },
  {
   "cell_type": "code",
   "execution_count": 9,
   "metadata": {},
   "outputs": [
    {
     "name": "stdout",
     "output_type": "stream",
     "text": [
      "1       0.123343\n",
      "2      -1.555282\n",
      "3       1.282653\n",
      "4      -0.370656\n",
      "5      -0.108510\n",
      "6       0.589696\n",
      "7       0.848504\n",
      "8       0.948447\n",
      "9      -0.939536\n",
      "10      0.351843\n",
      "11      0.960366\n",
      "12      0.407670\n",
      "13      0.000000\n",
      "14     -0.120301\n",
      "15     -0.286058\n",
      "16      0.347275\n",
      "17      1.474571\n",
      "18      0.919336\n",
      "19     -0.058772\n",
      "20      0.911497\n",
      "21      0.291375\n",
      "22     -0.334108\n",
      "23     -0.174902\n",
      "24     -2.730326\n",
      "25      1.110778\n",
      "26     -0.296912\n",
      "27      0.238237\n",
      "28      1.500297\n",
      "29     -0.102444\n",
      "30     -0.410196\n",
      "          ...   \n",
      "1026    0.000000\n",
      "1027   -0.079114\n",
      "1028   -0.475059\n",
      "1029    0.238663\n",
      "1030    2.142857\n",
      "1031   -1.320901\n",
      "1032    0.314961\n",
      "1033    1.020408\n",
      "1034   -0.310800\n",
      "1035   -1.013250\n",
      "1036    0.314961\n",
      "1037   -0.941915\n",
      "1038   -0.158479\n",
      "1039    0.000000\n",
      "1040   -0.396825\n",
      "1041    0.876494\n",
      "1042    0.394945\n",
      "1043   -0.078678\n",
      "1044   -0.314961\n",
      "1045    0.236967\n",
      "1046   -0.236407\n",
      "1047   -0.157978\n",
      "1048    0.158228\n",
      "1049    0.157978\n",
      "1050    0.473186\n",
      "1051    0.784929\n",
      "1052   -1.323988\n",
      "1053   -1.499605\n",
      "1054   -0.480769\n",
      "1055    0.241546\n",
      "Name: price, Length: 1055, dtype: float64\n"
     ]
    }
   ],
   "source": [
    "print(dreturn)"
   ]
  },
  {
   "cell_type": "code",
   "execution_count": 10,
   "metadata": {},
   "outputs": [
    {
     "name": "stdout",
     "output_type": "stream",
     "text": [
      "0.0028649883565703247 1.3494367451613416 1.1616525922845184\n"
     ]
    }
   ],
   "source": [
    "print (np.mean(dreturn), np.var(dreturn), np.std(dreturn))"
   ]
  },
  {
   "cell_type": "code",
   "execution_count": 11,
   "metadata": {},
   "outputs": [
    {
     "data": {
      "text/plain": [
       "(array([   1.,    0.,    0.,    0.,    0.,    1.,    0.,    2.,    0.,\n",
       "           0.,    1.,    1.,    0.,    2.,    2.,    1.,    3.,    6.,\n",
       "           7.,    8.,   11.,   19.,   18.,   33.,   41.,   56.,   66.,\n",
       "          93.,   92.,  105.,  113.,   88.,   62.,   68.,   35.,   29.,\n",
       "          30.,   19.,    8.,    6.,    3.,    3.,    6.,    2.,    4.,\n",
       "           3.,    3.,    0.,    1.,    3.]),\n",
       " array([-6.59887944, -6.37550525, -6.15213107, -5.92875688, -5.7053827 ,\n",
       "        -5.48200851, -5.25863433, -5.03526014, -4.81188596, -4.58851177,\n",
       "        -4.36513759, -4.1417634 , -3.91838922, -3.69501504, -3.47164085,\n",
       "        -3.24826667, -3.02489248, -2.8015183 , -2.57814411, -2.35476993,\n",
       "        -2.13139574, -1.90802156, -1.68464737, -1.46127319, -1.237899  ,\n",
       "        -1.01452482, -0.79115063, -0.56777645, -0.34440227, -0.12102808,\n",
       "         0.1023461 ,  0.32572029,  0.54909447,  0.77246866,  0.99584284,\n",
       "         1.21921703,  1.44259121,  1.6659654 ,  1.88933958,  2.11271377,\n",
       "         2.33608795,  2.55946214,  2.78283632,  3.0062105 ,  3.22958469,\n",
       "         3.45295887,  3.67633306,  3.89970724,  4.12308143,  4.34645561,\n",
       "         4.5698298 ]),\n",
       " <a list of 50 Patch objects>)"
      ]
     },
     "execution_count": 11,
     "metadata": {},
     "output_type": "execute_result"
    },
    {
     "data": {
      "image/png": "[encoded data removed]",
      "text/plain": [
       "<matplotlib.figure.Figure at 0x8d7d2b0>"
      ]
     },
     "metadata": {},
     "output_type": "display_data"
    }
   ],
   "source": [
    "%matplotlib inline\n",
    "import matplotlib.pyplot as plt\n",
    "\n",
    "# plot histogram\n",
    "plt.hist(dreturn.values, bins = 50)\n"
   ]
  },
  {
   "cell_type": "code",
   "execution_count": 12,
   "metadata": {
    "collapsed": true
   },
   "outputs": [],
   "source": [
    "hsi = pd.read_csv('HSI.csv', header= None)\n",
    "hsi.columns = ['hdate','hprice']\n",
    "hdate = hsi['hdate']\n",
    "hprice = hsi['hprice']\n",
    "dhreturn = (hprice[1:]/hprice[:-1].values - 1)*100\n"
   ]
  },
  {
   "cell_type": "code",
   "execution_count": 13,
   "metadata": {},
   "outputs": [
    {
     "data": {
      "text/plain": [
       "(array([   1.,    0.,    0.,    1.,    0.,    0.,    0.,    0.,    0.,\n",
       "           0.,    2.,    0.,    1.,    3.,    4.,    3.,    7.,    5.,\n",
       "          10.,    7.,   13.,   24.,   31.,   26.,   38.,   55.,   61.,\n",
       "          86.,  103.,   91.,   99.,   97.,   65.,   51.,   46.,   33.,\n",
       "          23.,   16.,   14.,   10.,    4.,    6.,    4.,    5.,    1.,\n",
       "           5.,    0.,    1.,    2.,    1.]),\n",
       " array([-5.84076821, -5.64189162, -5.44301502, -5.24413842, -5.04526182,\n",
       "        -4.84638522, -4.64750862, -4.44863203, -4.24975543, -4.05087883,\n",
       "        -3.85200223, -3.65312563, -3.45424903, -3.25537244, -3.05649584,\n",
       "        -2.85761924, -2.65874264, -2.45986604, -2.26098944, -2.06211285,\n",
       "        -1.86323625, -1.66435965, -1.46548305, -1.26660645, -1.06772985,\n",
       "        -0.86885326, -0.66997666, -0.47110006, -0.27222346, -0.07334686,\n",
       "         0.12552974,  0.32440633,  0.52328293,  0.72215953,  0.92103613,\n",
       "         1.11991273,  1.31878933,  1.51766592,  1.71654252,  1.91541912,\n",
       "         2.11429572,  2.31317232,  2.51204892,  2.71092551,  2.90980211,\n",
       "         3.10867871,  3.30755531,  3.50643191,  3.70530851,  3.9041851 ,\n",
       "         4.1030617 ]),\n",
       " <a list of 50 Patch objects>)"
      ]
     },
     "execution_count": 13,
     "metadata": {},
     "output_type": "execute_result"
    },
    {
     "data": {
      "image/png": "[encoded data removed]",
      "text/plain": [
       "<matplotlib.figure.Figure at 0x8e09b00>"
      ]
     },
     "metadata": {},
     "output_type": "display_data"
    }
   ],
   "source": [
    "\n",
    "# plot histogram\n",
    "plt.hist(dhreturn.values, bins = 50)"
   ]
  },
  {
   "cell_type": "code",
   "execution_count": 14,
   "metadata": {},
   "outputs": [
    {
     "name": "stdout",
     "output_type": "stream",
     "text": [
      "[[ 1.35071705  0.91512891]\n",
      " [ 0.91512891  1.15543787]]\n",
      "[[ 1.          0.73253232]\n",
      " [ 0.73253232  1.        ]]\n"
     ]
    }
   ],
   "source": [
    "print(np.cov(dreturn,dhreturn))\n",
    "print(np.corrcoef(dreturn,dhreturn))"
   ]
  },
  {
   "cell_type": "code",
   "execution_count": 15,
   "metadata": {
    "collapsed": true
   },
   "outputs": [],
   "source": [
    "import math as ma\n",
    "import statsmodels.formula.api as sfa # application programming interface\n"
   ]
  },
  {
   "cell_type": "code",
   "execution_count": 16,
   "metadata": {
    "collapsed": true
   },
   "outputs": [],
   "source": [
    "# reference : http://www.statsmodels.org/stable/"
   ]
  },
  {
   "cell_type": "code",
   "execution_count": 17,
   "metadata": {},
   "outputs": [
    {
     "name": "stdout",
     "output_type": "stream",
     "text": [
      "                            OLS Regression Results                            \n",
      "==============================================================================\n",
      "Dep. Variable:                      A   R-squared:                       0.537\n",
      "Model:                            OLS   Adj. R-squared:                  0.536\n",
      "Method:                 Least Squares   F-statistic:                     1219.\n",
      "Date:                Fri, 24 Aug 2018   Prob (F-statistic):          4.46e-178\n",
      "Time:                        20:52:34   Log-Likelihood:                -1249.3\n",
      "No. Observations:                1055   AIC:                             2503.\n",
      "Df Residuals:                    1053   BIC:                             2513.\n",
      "Df Model:                           1                                         \n",
      "Covariance Type:            nonrobust                                         \n",
      "==============================================================================\n",
      "                 coef    std err          t      P>|t|      [0.025      0.975]\n",
      "------------------------------------------------------------------------------\n",
      "Intercept     -0.0041      0.024     -0.167      0.867      -0.052       0.044\n",
      "B              0.7920      0.023     34.919      0.000       0.748       0.837\n",
      "==============================================================================\n",
      "Omnibus:                      106.464   Durbin-Watson:                   1.858\n",
      "Prob(Omnibus):                  0.000   Jarque-Bera (JB):              756.367\n",
      "Skew:                           0.037   Prob(JB):                    5.72e-165\n",
      "Kurtosis:                       7.147   Cond. No.                         1.07\n",
      "==============================================================================\n",
      "\n",
      "Warnings:\n",
      "[1] Standard Errors assume that the covariance matrix of the errors is correctly specified.\n"
     ]
    }
   ],
   "source": [
    "df = pd.DataFrame({\"A\": dreturn[::], \"B\": dhreturn[::]})\n",
    "\n",
    "# run regression\n",
    "result = sfa.ols(formula=\"A ~ B\", data=df).fit()\n",
    "\n",
    "# print out result\n",
    "print (result.summary())\n"
   ]
  },
  {
   "cell_type": "code",
   "execution_count": 18,
   "metadata": {},
   "outputs": [
    {
     "name": "stdout",
     "output_type": "stream",
     "text": [
      "16.621048013415372\n"
     ]
    }
   ],
   "source": [
    "from scipy import stats\n",
    "\n",
    "# run regression using another method\n",
    "gradient, intercept, r_value, p_value, std_err = stats.linregress(dreturn,dhreturn)\n",
    "\n",
    "# print t-value\n",
    "print (ma.fabs((gradient-1)/std_err)) # return absolute value\n"
   ]
  },
  {
   "cell_type": "code",
   "execution_count": null,
   "metadata": {
    "collapsed": true
   },
   "outputs": [],
   "source": []
  }
 ],
 "metadata": {
  "kernelspec": {
   "display_name": "Python 3",
   "language": "python",
   "name": "python3"
  },
  "language_info": {
   "codemirror_mode": {
    "name": "ipython",
    "version": 3
   },
   "file_extension": ".py",
   "mimetype": "text/x-python",
   "name": "python",
   "nbconvert_exporter": "python",
   "pygments_lexer": "ipython3",
   "version": "3.6.1"
  }
 },
 "nbformat": 4,
 "nbformat_minor": 2
}
