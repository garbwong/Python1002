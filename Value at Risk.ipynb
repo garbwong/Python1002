{
 "cells": [
  {
   "cell_type": "markdown",
   "metadata": {},
   "source": [
    "# VaR at Risk"
   ]
  },
  {
   "cell_type": "code",
   "execution_count": 1,
   "metadata": {
    "collapsed": true
   },
   "outputs": [],
   "source": [
    "import numpy as np\n",
    "from numpy import std, mean\n",
    "from math import sqrt\n",
    "import pandas as pd\n",
    "from scipy.stats import norm\n"
   ]
  },
  {
   "cell_type": "code",
   "execution_count": 2,
   "metadata": {
    "collapsed": true
   },
   "outputs": [],
   "source": [
    "#Historical stock prices from Yahoo! Finance\n",
    "import pandas_datareader as web\n",
    "import datetime"
   ]
  },
  {
   "cell_type": "code",
   "execution_count": 3,
   "metadata": {
    "collapsed": true
   },
   "outputs": [],
   "source": [
    "n_shares=50 #stock holding\n",
    "confidence_level=0.99 # confidence level\n",
    "n_days=10 # no of days\n",
    "z=norm.ppf(confidence_level)\n"
   ]
  },
  {
   "cell_type": "code",
   "execution_count": 4,
   "metadata": {
    "collapsed": true
   },
   "outputs": [],
   "source": [
    "start = datetime.datetime(2014, 1, 1)\n",
    "end = datetime.datetime(2016,12,30)"
   ]
  },
  {
   "cell_type": "code",
   "execution_count": 5,
   "metadata": {
    "collapsed": true
   },
   "outputs": [],
   "source": [
    "x = web.DataReader(\"AAPL\", 'google', start,end)\n",
    "#x=quotes_historical_yahoo(ticker,begdate,enddate,asobject=True,adjusted=True)"
   ]
  },
  {
   "cell_type": "code",
   "execution_count": 15,
   "metadata": {},
   "outputs": [
    {
     "data": {
      "text/plain": [
       "Date\n",
       "2014-01-02     79.02\n",
       "2014-01-03     77.28\n",
       "2014-01-06     77.70\n",
       "2014-01-07     77.15\n",
       "2014-01-08     77.64\n",
       "2014-01-09     76.65\n",
       "2014-01-10     76.13\n",
       "2014-01-13     76.53\n",
       "2014-01-14     78.06\n",
       "2014-01-15     79.62\n",
       "2014-01-16     79.18\n",
       "2014-01-17     77.24\n",
       "2014-01-21     78.44\n",
       "2014-01-22     78.79\n",
       "2014-01-23     79.45\n",
       "2014-01-24     78.01\n",
       "2014-01-27     78.64\n",
       "2014-01-28     72.36\n",
       "2014-01-29     71.54\n",
       "2014-01-30     71.40\n",
       "2014-01-31     71.51\n",
       "2014-02-03     71.65\n",
       "2014-02-04     72.68\n",
       "2014-02-05     73.23\n",
       "2014-02-06     73.22\n",
       "2014-02-07     74.24\n",
       "2014-02-10     75.57\n",
       "2014-02-11     76.57\n",
       "2014-02-12     76.56\n",
       "2014-02-13     77.78\n",
       "               ...  \n",
       "2016-11-17    109.95\n",
       "2016-11-18    110.06\n",
       "2016-11-21    111.73\n",
       "2016-11-22    111.80\n",
       "2016-11-23    111.23\n",
       "2016-11-25    111.79\n",
       "2016-11-28    111.57\n",
       "2016-11-29    111.46\n",
       "2016-11-30    110.52\n",
       "2016-12-01    109.49\n",
       "2016-12-02    109.90\n",
       "2016-12-05    109.11\n",
       "2016-12-06    109.95\n",
       "2016-12-07    111.03\n",
       "2016-12-08    112.12\n",
       "2016-12-09    113.95\n",
       "2016-12-12    113.30\n",
       "2016-12-13    115.19\n",
       "2016-12-14    115.19\n",
       "2016-12-15    115.82\n",
       "2016-12-16    115.97\n",
       "2016-12-19    116.64\n",
       "2016-12-20    116.95\n",
       "2016-12-21    117.06\n",
       "2016-12-22    116.29\n",
       "2016-12-23    116.52\n",
       "2016-12-27    117.26\n",
       "2016-12-28    116.76\n",
       "2016-12-29    116.73\n",
       "2016-12-30    115.82\n",
       "Name: Close, Length: 756, dtype: float64"
      ]
     },
     "execution_count": 15,
     "metadata": {},
     "output_type": "execute_result"
    }
   ],
   "source": [
    "x['Close'][:]"
   ]
  },
  {
   "cell_type": "code",
   "execution_count": 7,
   "metadata": {},
   "outputs": [
    {
     "data": {
      "text/plain": [
       "Date\n",
       "2014-01-02         NaN\n",
       "2014-01-03   -0.022020\n",
       "2014-01-06    0.005435\n",
       "2014-01-07   -0.007079\n",
       "2014-01-08    0.006351\n",
       "2014-01-09   -0.012751\n",
       "2014-01-10   -0.006784\n",
       "2014-01-13    0.005254\n",
       "2014-01-14    0.019992\n",
       "2014-01-15    0.019985\n",
       "2014-01-16   -0.005526\n",
       "2014-01-17   -0.024501\n",
       "2014-01-21    0.015536\n",
       "2014-01-22    0.004462\n",
       "2014-01-23    0.008377\n",
       "2014-01-24   -0.018125\n",
       "2014-01-27    0.008076\n",
       "2014-01-28   -0.079858\n",
       "2014-01-29   -0.011332\n",
       "2014-01-30   -0.001957\n",
       "2014-01-31    0.001541\n",
       "2014-02-03    0.001958\n",
       "2014-02-04    0.014375\n",
       "2014-02-05    0.007567\n",
       "2014-02-06   -0.000137\n",
       "2014-02-07    0.013931\n",
       "2014-02-10    0.017915\n",
       "2014-02-11    0.013233\n",
       "2014-02-12   -0.000131\n",
       "2014-02-13    0.015935\n",
       "                ...   \n",
       "2016-11-17   -0.000364\n",
       "2016-11-18    0.001000\n",
       "2016-11-21    0.015174\n",
       "2016-11-22    0.000627\n",
       "2016-11-23   -0.005098\n",
       "2016-11-25    0.005035\n",
       "2016-11-28   -0.001968\n",
       "2016-11-29   -0.000986\n",
       "2016-11-30   -0.008434\n",
       "2016-12-01   -0.009320\n",
       "2016-12-02    0.003745\n",
       "2016-12-05   -0.007188\n",
       "2016-12-06    0.007699\n",
       "2016-12-07    0.009823\n",
       "2016-12-08    0.009817\n",
       "2016-12-09    0.016322\n",
       "2016-12-12   -0.005704\n",
       "2016-12-13    0.016681\n",
       "2016-12-14    0.000000\n",
       "2016-12-15    0.005469\n",
       "2016-12-16    0.001295\n",
       "2016-12-19    0.005777\n",
       "2016-12-20    0.002658\n",
       "2016-12-21    0.000941\n",
       "2016-12-22   -0.006578\n",
       "2016-12-23    0.001978\n",
       "2016-12-27    0.006351\n",
       "2016-12-28   -0.004264\n",
       "2016-12-29   -0.000257\n",
       "2016-12-30   -0.007796\n",
       "Name: Close, Length: 756, dtype: float64"
      ]
     },
     "execution_count": 7,
     "metadata": {},
     "output_type": "execute_result"
    }
   ],
   "source": [
    "ret = ((x['Close'] / x['Close'].shift()) -1)\n",
    "ret"
   ]
  },
  {
   "cell_type": "code",
   "execution_count": 8,
   "metadata": {},
   "outputs": [
    {
     "name": "stdout",
     "output_type": "stream",
     "text": [
      "Holding= Date\n",
      "2016-12-30    5791.0\n",
      "Name: Close, dtype: float64 99% VaR= Date\n",
      "2016-12-30    643.8304\n",
      "Name: Close, dtype: float64 in  10 Days\n"
     ]
    }
   ],
   "source": [
    "position = n_shares*(x['Close'][-1:])\n",
    "VaR=position*z*std(ret)*sqrt(n_days)\n",
    "print(\"Holding=\",position, \"99% VaR=\", round(VaR,4), \"in \", n_days, \"Days\")"
   ]
  },
  {
   "cell_type": "code",
   "execution_count": 9,
   "metadata": {},
   "outputs": [
    {
     "data": {
      "text/plain": [
       "0.1111777542213105"
      ]
     },
     "execution_count": 9,
     "metadata": {},
     "output_type": "execute_result"
    }
   ],
   "source": [
    "z*std(ret)*sqrt(n_days)\n"
   ]
  },
  {
   "cell_type": "code",
   "execution_count": 10,
   "metadata": {},
   "outputs": [
    {
     "data": {
      "text/plain": [
       "2.3263478740408408"
      ]
     },
     "execution_count": 10,
     "metadata": {},
     "output_type": "execute_result"
    }
   ],
   "source": [
    "z"
   ]
  },
  {
   "cell_type": "code",
   "execution_count": 11,
   "metadata": {},
   "outputs": [
    {
     "data": {
      "text/plain": [
       "3.1622776601683795"
      ]
     },
     "execution_count": 11,
     "metadata": {},
     "output_type": "execute_result"
    }
   ],
   "source": [
    "sqrt(n_days)"
   ]
  },
  {
   "cell_type": "code",
   "execution_count": 12,
   "metadata": {},
   "outputs": [
    {
     "data": {
      "text/plain": [
       "Date\n",
       "2016-12-30    115.82\n",
       "Name: Close, dtype: float64"
      ]
     },
     "execution_count": 12,
     "metadata": {},
     "output_type": "execute_result"
    }
   ],
   "source": [
    "x['Close'][-1:] # This is the last stock price in the time period"
   ]
  },
  {
   "cell_type": "code",
   "execution_count": 13,
   "metadata": {},
   "outputs": [
    {
     "data": {
      "text/plain": [
       "(1.5112740979321346, 0.06208543937207433)"
      ]
     },
     "execution_count": 13,
     "metadata": {},
     "output_type": "execute_result"
    }
   ],
   "source": [
    "std(ret*100), mean(ret*100)"
   ]
  },
  {
   "cell_type": "code",
   "execution_count": null,
   "metadata": {
    "collapsed": true
   },
   "outputs": [],
   "source": []
  }
 ],
 "metadata": {
  "kernelspec": {
   "display_name": "Python 3",
   "language": "python",
   "name": "python3"
  },
  "language_info": {
   "codemirror_mode": {
    "name": "ipython",
    "version": 3
   },
   "file_extension": ".py",
   "mimetype": "text/x-python",
   "name": "python",
   "nbconvert_exporter": "python",
   "pygments_lexer": "ipython3",
   "version": "3.6.1"
  }
 },
 "nbformat": 4,
 "nbformat_minor": 2
}
