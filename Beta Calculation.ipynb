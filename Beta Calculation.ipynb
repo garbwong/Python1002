{
 "cells": [
  {
   "cell_type": "markdown",
   "metadata": {},
   "source": [
    "# Stock Beta Calculation"
   ]
  },
  {
   "cell_type": "code",
   "execution_count": 1,
   "metadata": {},
   "outputs": [
    {
     "name": "stdout",
     "output_type": "stream",
     "text": [
      "0.792770586064 1.18992753191\n"
     ]
    }
   ],
   "source": [
    "import pandas as pd\n",
    "import numpy as np\n",
    "\n",
    "# open csv file\n",
    "price = pd.read_csv('HSI_5_700.csv', header= None)\n",
    "\n",
    "# write csv data into dataframes\n",
    "price.columns = ['date','HSI','HSBC','Tencent']\n",
    "\n",
    "# put data into array\n",
    "date = price['date']\n",
    "pHSI = price['HSI']\n",
    "pHSBC = price['HSBC']\n",
    "pTencent = price['Tencent']\n",
    "\n",
    "\n",
    "# calculate daily return\n",
    "rHSI = (pHSI[1:] / pHSI[:-1].values - 1)*100\n",
    "rHSBC = (pHSBC[1:] / pHSBC[:-1].values - 1)*100\n",
    "rTencent = (pTencent[1:] / pTencent[:-1].values - 1)*100\n",
    "\n",
    "\n",
    "# calculate beta\n",
    "\n",
    "bHSBC = np.cov(rHSBC, rHSI)/np.var(rHSI)\n",
    "bTencent = np.cov(rTencent, rHSI)/np.var(rHSI)\n",
    "\n",
    "print(bHSBC[1][0],bTencent[1][0])"
   ]
  },
  {
   "cell_type": "code",
   "execution_count": null,
   "metadata": {
    "collapsed": true
   },
   "outputs": [],
   "source": []
  }
 ],
 "metadata": {
  "kernelspec": {
   "display_name": "Python 3",
   "language": "python",
   "name": "python3"
  },
  "language_info": {
   "codemirror_mode": {
    "name": "ipython",
    "version": 3
   },
   "file_extension": ".py",
   "mimetype": "text/x-python",
   "name": "python",
   "nbconvert_exporter": "python",
   "pygments_lexer": "ipython3",
   "version": "3.6.1"
  }
 },
 "nbformat": 4,
 "nbformat_minor": 2
}
